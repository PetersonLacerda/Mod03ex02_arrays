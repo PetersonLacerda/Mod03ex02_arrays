{
  "nbformat": 4,
  "nbformat_minor": 0,
  "metadata": {
    "colab": {
      "name": "Mod03ex02_arrays.ipynb",
      "provenance": []
    },
    "kernelspec": {
      "name": "python3",
      "display_name": "Python 3"
    },
    "language_info": {
      "name": "python"
    }
  },
  "cells": [
    {
      "cell_type": "code",
      "execution_count": 61,
      "metadata": {
        "id": "HLMaDyPcAwIe"
      },
      "outputs": [],
      "source": [
        "import numpy as np"
      ]
    },
    {
      "cell_type": "markdown",
      "source": [
        "**1) Alturas**\n",
        "\n",
        "i. No trecho de código abaixo, crie um ndarray chamado altura_em_centimetros transformando a lista lista_de_alturas em um ndarray do numpy com a função np.array()\n",
        "\n",
        "ii. Crie um outro objeto altura em metros, com os valores de altura_em_centimetros convertidos para metros."
      ],
      "metadata": {
        "id": "ZRRoZ92eBA-P"
      }
    },
    {
      "cell_type": "code",
      "source": [
        "#exercício 1.i \n",
        "lista_de_centimetros = list(range(170, 190, 5))\n",
        "# Vale resaltar que a lista de altura é um rage de 5 a 5 cm, começando de 170 e terminado em 190.\n",
        "altura_em_centimetros = np.array(lista_de_centimetros)\n",
        "print(altura_em_centimetros)"
      ],
      "metadata": {
        "colab": {
          "base_uri": "https://localhost:8080/"
        },
        "id": "JHl_IrHHBK8u",
        "outputId": "860f535f-d800-482a-af2b-a3b246dce1c4"
      },
      "execution_count": 62,
      "outputs": [
        {
          "output_type": "stream",
          "name": "stdout",
          "text": [
            "[170 175 180 185]\n"
          ]
        }
      ]
    },
    {
      "cell_type": "code",
      "source": [
        "# exercício 1.ii\n",
        "altura_em_metros = altura_em_centimetros / 100\n",
        "print(altura_em_metros)"
      ],
      "metadata": {
        "colab": {
          "base_uri": "https://localhost:8080/"
        },
        "id": "8RQlSYT8CGGt",
        "outputId": "da77db8c-aae7-40c6-f8b2-aa4e1ac7d70c"
      },
      "execution_count": 63,
      "outputs": [
        {
          "output_type": "stream",
          "name": "stdout",
          "text": [
            "[1.7  1.75 1.8  1.85]\n"
          ]
        }
      ]
    },
    {
      "cell_type": "markdown",
      "source": [
        "# **2) IMC**\n",
        "\n",
        "i. Considere que pesos em Kg dessas pessoas, na mesma ortem, estão na lista pesos lista_pesos = [70, 75, 80, 85]. Crie um ndarray chamado pesos com a função np.array() que contenha esses valores.\n",
        "\n",
        "ii. Utilizando o objeto que contém as alturas em metros e esse objeto que contém os respectivos pesos em quilos, calcule o IMC desses indivíduos utilizando a aritmética de arrays e guarde os resultados em um objeto chamado imc."
      ],
      "metadata": {
        "id": "w_4F6ihZCaF3"
      }
    },
    {
      "cell_type": "code",
      "source": [
        "# exercício 2.i\n",
        "\n",
        "lista_pesos = [70, 75, 80, 85]\n",
        "pesos = np.array(lista_pesos)\n",
        "print(pesos)"
      ],
      "metadata": {
        "colab": {
          "base_uri": "https://localhost:8080/"
        },
        "id": "DiRktfMOCZXV",
        "outputId": "84f5e1d1-b9fd-4661-a1cf-23fb5dc8d452"
      },
      "execution_count": 64,
      "outputs": [
        {
          "output_type": "stream",
          "name": "stdout",
          "text": [
            "[70 75 80 85]\n"
          ]
        }
      ]
    },
    {
      "cell_type": "code",
      "source": [
        "# exercício 2.ii\n",
        "\n",
        "#formúla do IMC\n",
        "imc = pesos / (altura_em_metros*altura_em_metros)\n",
        "\n",
        "#como já usamos as variáveis com esses nomes, facilita, agora é só mostrar o resultado\n",
        "print(imc)"
      ],
      "metadata": {
        "colab": {
          "base_uri": "https://localhost:8080/"
        },
        "id": "NXdCbrENDDPN",
        "outputId": "aea679b5-7a7e-4538-e1ce-9d5fceb1d469"
      },
      "execution_count": 65,
      "outputs": [
        {
          "output_type": "stream",
          "name": "stdout",
          "text": [
            "[24.22145329 24.48979592 24.69135802 24.83564646]\n"
          ]
        }
      ]
    },
    {
      "cell_type": "markdown",
      "source": [
        "# **3) Endividamento**\n",
        "\n",
        "Cálculos de novas variáveis como endividamento total e comprometimento de renda são essenciais para a construção de modelos financeiros em ciência de dados. Áreas não financeiras terão cálculos semelhantes também. Vamos praticar:\n",
        "\n",
        "Considere que o seguinte ndarray contém os dados de 4 pessoas, total a ser pago a empréstimos mensalmente e renda familiar:\n",
        "\n",
        "i. Transforme a lista de listas dados_financeiros no ndarray nd_financeiros.\n",
        "\n",
        "dados_financeiros[[3000, 2500, 1000, 10000],[1000, 2500, 3000, 5000],[6000, 5500, 7000, 16000]]\n",
        "\n",
        "ii. Utilize o método .transpose e certifique-se de que esse ndarray tenha uma linha por indivíduo e uma coluna por informação. Utilizando a indexação do numpy, imprima no output a segunda linha do array, depois a segunda coluna.\n",
        "\n",
        "iii. Pratique aritmética com nearrays e calcule o endividamento total como:\n",
        "endividamentototal=custo_fixo + dívida_financeira / renda_familiar \n",
        "Guarde os resultados em uma variável chamada endividamento_total e verifique os resultados imprimindo o conteúdo dessa variável no output.\n",
        "\n",
        "iv. Considere que há um erro de digitação que precisa ser corrigido: 3o indivíduo na verdade não possui renda familiar de R$7.000,00, mas    sim R$ 10.000,00. Corrija esse valor e refaça os cálculos."
      ],
      "metadata": {
        "id": "QeUJgawFD2Yt"
      }
    },
    {
      "cell_type": "code",
      "source": [
        "# exercício 3.i\n",
        "\n",
        "dados_financeiros = [[3000, 2500, 1000, 10000],[1000, 2500, 3000, 5000],[6000, 5500, 7000, 16000]]\n",
        "\n",
        "#transformando em array\n",
        "\n",
        "nd_financeiros = np.array(dados_financeiros)\n",
        "print(nd_financeiros)\n",
        "print(type(nd_financeiros))"
      ],
      "metadata": {
        "colab": {
          "base_uri": "https://localhost:8080/"
        },
        "id": "g6b11X1GEHhu",
        "outputId": "0d2dd672-dd4d-4aa0-c5d7-6d623875d73a"
      },
      "execution_count": 66,
      "outputs": [
        {
          "output_type": "stream",
          "name": "stdout",
          "text": [
            "[[ 3000  2500  1000 10000]\n",
            " [ 1000  2500  3000  5000]\n",
            " [ 6000  5500  7000 16000]]\n",
            "<class 'numpy.ndarray'>\n"
          ]
        }
      ]
    },
    {
      "cell_type": "code",
      "source": [
        "# exercícios 3.ii\n",
        "\n",
        "nd_financeiros = nd_financeiros.transpose()\n",
        "# O transpose inverte o array \n",
        "print(nd_financeiros)\n",
        "print(type(nd_financeiros))"
      ],
      "metadata": {
        "colab": {
          "base_uri": "https://localhost:8080/"
        },
        "id": "3y858Yn_E_Qk",
        "outputId": "43c7a0db-6322-473f-b18d-f207417ccd20"
      },
      "execution_count": 72,
      "outputs": [
        {
          "output_type": "stream",
          "name": "stdout",
          "text": [
            "[[ 3000  2500  1000 10000]\n",
            " [ 1000  2500  3000  5000]\n",
            " [ 6000  5500 10000 16000]]\n",
            "<class 'numpy.ndarray'>\n"
          ]
        }
      ]
    },
    {
      "cell_type": "code",
      "source": [
        "#mostrar a segunda linha que agora é coluna\n",
        "nd_financeiros[:,1]"
      ],
      "metadata": {
        "colab": {
          "base_uri": "https://localhost:8080/"
        },
        "id": "KUkcWmPoFjcM",
        "outputId": "49322969-2c28-4f30-dfd8-10baf6596f2d"
      },
      "execution_count": 73,
      "outputs": [
        {
          "output_type": "execute_result",
          "data": {
            "text/plain": [
              "array([2500, 2500, 5500])"
            ]
          },
          "metadata": {},
          "execution_count": 73
        }
      ]
    },
    {
      "cell_type": "code",
      "source": [
        "#mostrar a segunda linha que antes era coluna\n",
        "nd_financeiros[1,:]"
      ],
      "metadata": {
        "colab": {
          "base_uri": "https://localhost:8080/"
        },
        "id": "vWMOkKNcGmNd",
        "outputId": "4b0281fb-46b8-42da-d773-cf72fc2a35a1"
      },
      "execution_count": 74,
      "outputs": [
        {
          "output_type": "execute_result",
          "data": {
            "text/plain": [
              "array([1000, 2500, 3000, 5000])"
            ]
          },
          "metadata": {},
          "execution_count": 74
        }
      ]
    },
    {
      "cell_type": "code",
      "source": [
        "# exercício 3.iii\n",
        "\n",
        "endividamento_total = (nd_financeiros[:,0] + nd_financeiros[:,1]) / nd_financeiros[:,2]\n",
        "print(endividamento_total)"
      ],
      "metadata": {
        "colab": {
          "base_uri": "https://localhost:8080/"
        },
        "id": "kbkxvVLSJEIe",
        "outputId": "9f247bc1-002d-4536-c22e-84088a6b1b96"
      },
      "execution_count": 75,
      "outputs": [
        {
          "output_type": "stream",
          "name": "stdout",
          "text": [
            "[5.5        1.16666667 1.15      ]\n"
          ]
        }
      ]
    },
    {
      "cell_type": "code",
      "source": [
        "#exercício 3.iv\n",
        "\n",
        "#corrigindo de 7mil para 10mil a rende do terceiro elemento\n",
        "nd_financeiros[2,2] = 10000\n",
        "print(nd_financeiros)"
      ],
      "metadata": {
        "colab": {
          "base_uri": "https://localhost:8080/"
        },
        "id": "j2BDllT5Sg7D",
        "outputId": "d115a8fb-261f-4ac3-c880-323725df9f61"
      },
      "execution_count": 76,
      "outputs": [
        {
          "output_type": "stream",
          "name": "stdout",
          "text": [
            "[[ 3000  2500  1000 10000]\n",
            " [ 1000  2500  3000  5000]\n",
            " [ 6000  5500 10000 16000]]\n"
          ]
        }
      ]
    },
    {
      "cell_type": "code",
      "source": [
        "# refazendo o endividamento total\n",
        "\n",
        "endividamento_total = (nd_financeiros[:,0] + nd_financeiros[:,1]) / nd_financeiros[:,2]\n",
        "print(endividamento_total)"
      ],
      "metadata": {
        "colab": {
          "base_uri": "https://localhost:8080/"
        },
        "id": "buZRATabS5-T",
        "outputId": "229a7ef5-715f-4c14-99bd-8ec86d3178d5"
      },
      "execution_count": 77,
      "outputs": [
        {
          "output_type": "stream",
          "name": "stdout",
          "text": [
            "[5.5        1.16666667 1.15      ]\n"
          ]
        }
      ]
    },
    {
      "cell_type": "markdown",
      "source": [
        "**4) É muito comum precisarmos identificar valores especiais e darmos tratamento a eles quer seja alterando-os quer seja descartando-os.**\n",
        "\n",
        "O trecho de código abaixo gera um ndarray com números pseudo aleatórios. Considere que para efeitos do estudo que virá, devemos desconsiderar valores iguais a zero. Sendo assim:\n",
        "\n",
        "i) crie um objeto bool_zero que traga uma sequencia de booleanos do mesmo tamanho que o objeto poi, e que vale True quando o valor de poi é zero, e False caso contrário.\n",
        "\n",
        "ii) Conte quantos valores zero existem. Lembre-se de que no final das contas, True vale 1 para o Python, e False vale zero, então uma boa dica seria usar a função sum().\n",
        "\n",
        "iii) Utilize a indexação booleana que você aprendeu para criar uma variável poi_nao_zero que aponta para os elementos de poi diferentes de zero. Dica: você vai pode inverter os elementos do objeto que criou em ii) ou escrever a comparação adequada."
      ],
      "metadata": {
        "id": "kziR2tbgThs6"
      }
    },
    {
      "cell_type": "code",
      "source": [
        "# objeto poi : o np.random.seed é um random porém ele gera sempre o mesmo random\n",
        "\n",
        "np.random.seed(1234)\n",
        "poi = np.random.poisson(3, 100)\n",
        "print(poi)\n",
        "print(type(poi))\n"
      ],
      "metadata": {
        "colab": {
          "base_uri": "https://localhost:8080/"
        },
        "id": "MJAc54IkTxBn",
        "outputId": "80e9587e-d9ae-4774-a028-51b887893c37"
      },
      "execution_count": 80,
      "outputs": [
        {
          "output_type": "stream",
          "name": "stdout",
          "text": [
            "[3 3 6 2 4 5 4 4 2 0 3 3 2 8 2 3 3 3 0 4 4 2 6 6 0 3 4 3 5 2 1 3 2 2 3 2 4\n",
            " 4 5 7 3 5 3 3 2 2 3 6 2 2 4 3 5 2 5 3 0 2 1 1 4 4 4 6 2 4 1 2 5 5 3 4 1 4\n",
            " 1 1 7 1 2 1 3 7 0 4 4 0 6 1 3 4 2 5 4 5 5 3 4 6 8 2]\n",
            "<class 'numpy.ndarray'>\n"
          ]
        }
      ]
    },
    {
      "cell_type": "code",
      "source": [
        "# exercício 4.i\n",
        "\n",
        "#encontrando os valores iguais a 0\n",
        "\n",
        "bool_zero = poi == 0\n",
        "print(bool_zero)"
      ],
      "metadata": {
        "colab": {
          "base_uri": "https://localhost:8080/"
        },
        "id": "AgCQuYd8UglM",
        "outputId": "4ca3c760-8585-46c0-94f0-4edf7f96b74e"
      },
      "execution_count": 81,
      "outputs": [
        {
          "output_type": "stream",
          "name": "stdout",
          "text": [
            "[False False False False False False False False False  True False False\n",
            " False False False False False False  True False False False False False\n",
            "  True False False False False False False False False False False False\n",
            " False False False False False False False False False False False False\n",
            " False False False False False False False False  True False False False\n",
            " False False False False False False False False False False False False\n",
            " False False False False False False False False False False  True False\n",
            " False  True False False False False False False False False False False\n",
            " False False False False]\n"
          ]
        }
      ]
    },
    {
      "cell_type": "code",
      "source": [
        "# exercício 4,ii\n",
        "\n",
        "# contando os zeros\n",
        "\n",
        "sum(bool_zero)"
      ],
      "metadata": {
        "colab": {
          "base_uri": "https://localhost:8080/"
        },
        "id": "bMq9Vz4wVBMK",
        "outputId": "87d972df-9efa-4f8e-80e9-28518b59ed98"
      },
      "execution_count": 82,
      "outputs": [
        {
          "output_type": "execute_result",
          "data": {
            "text/plain": [
              "6"
            ]
          },
          "metadata": {},
          "execution_count": 82
        }
      ]
    },
    {
      "cell_type": "code",
      "source": [
        "# exercício 4.iii\n",
        "\n",
        "poi_nao_zero = poi[~bool_zero]\n",
        "print(poi_nao_zero)"
      ],
      "metadata": {
        "colab": {
          "base_uri": "https://localhost:8080/"
        },
        "id": "sFDBdKDBVMMC",
        "outputId": "558d6257-e9d0-4b11-b01a-fd33dec0c1f3"
      },
      "execution_count": 84,
      "outputs": [
        {
          "output_type": "stream",
          "name": "stdout",
          "text": [
            "[3 3 6 2 4 5 4 4 2 3 3 2 8 2 3 3 3 4 4 2 6 6 3 4 3 5 2 1 3 2 2 3 2 4 4 5 7\n",
            " 3 5 3 3 2 2 3 6 2 2 4 3 5 2 5 3 2 1 1 4 4 4 6 2 4 1 2 5 5 3 4 1 4 1 1 7 1\n",
            " 2 1 3 7 4 4 6 1 3 4 2 5 4 5 5 3 4 6 8 2]\n"
          ]
        }
      ]
    }
  ]
}